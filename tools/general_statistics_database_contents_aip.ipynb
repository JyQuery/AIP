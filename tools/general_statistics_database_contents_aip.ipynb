{
 "cells": [
  {
   "cell_type": "code",
   "execution_count": 2,
   "metadata": {},
   "outputs": [],
   "source": [
    "import psycopg2"
   ]
  },
  {
   "cell_type": "code",
   "execution_count": 3,
   "metadata": {},
   "outputs": [],
   "source": [
    "conn = psycopg2.connect(user=\"lvs215\",\n",
    "                                   password=\"\",\n",
    "                                   host=\"127.0.0.1\",\n",
    "                                   port=\"12777\",\n",
    "                                   database=\"aip\")"
   ]
  },
  {
   "cell_type": "code",
   "execution_count": 15,
   "metadata": {},
   "outputs": [
    {
     "name": "stdout",
     "output_type": "stream",
     "text": [
      "Amount of papers that have at least one author assigned 71.21810595898887\n"
     ]
    }
   ],
   "source": [
    "# This cell outputs how many articles we have some author data on.\n",
    "with conn.cursor() as cursor:\n",
    "    query = \"\"\"\n",
    "SELECT count(id), (SELECT COUNT(DISTINCT(id))\n",
    "    FROM author_paper_pairs, publications \n",
    "    WHERE publications.id = author_paper_pairs.paper_id\n",
    ") AS number_papers_authors\n",
    "FROM publications\n",
    "\"\"\"\n",
    "    cursor.execute(query)\n",
    "\n",
    "    row = cursor.fetchone()\n",
    "    print(\"Amount of papers that have at least one author assigned {:.2f}\".format((row[1] / row[0]) * 100))"
   ]
  },
  {
   "cell_type": "code",
   "execution_count": 16,
   "metadata": {},
   "outputs": [
    {
     "name": "stdout",
     "output_type": "stream",
     "text": [
      "Amount of papers that have citation information 90.45\n"
     ]
    }
   ],
   "source": [
    "# This cell outputs how many articles we have some number of citation data on.\n",
    "with conn.cursor() as cursor:\n",
    "    query = \"\"\"\n",
    "SELECT count(id), (SELECT COUNT(DISTINCT(id))\n",
    "    FROM publications \n",
    "    WHERE publications.n_citations >= 0\n",
    ") AS number_articles_citation_info\n",
    "FROM publications\n",
    "\"\"\"\n",
    "    cursor.execute(query)\n",
    "\n",
    "    row = cursor.fetchone()\n",
    "    print(\"Amount of papers that have citation information {:.2f}%\".format((row[1] / row[0]) * 100))"
   ]
  },
  {
   "cell_type": "code",
   "execution_count": null,
   "metadata": {},
   "outputs": [],
   "source": [
    "# TODO check the amount of article entries in DBLP, Semantic Scholar, and AMiner.\n",
    "\n",
    "def wccount(filename):\n",
    "    out = subprocess.Popen(['wc', '-l', filename],\n",
    "                         stdout=subprocess.PIPE,\n",
    "                         stderr=subprocess.STDOUT\n",
    "                         ).communicate()[0]\n",
    "    return int(out.partition(b' ')[0])\n",
    "\n"
   ]
  }
 ],
 "metadata": {
  "kernelspec": {
   "display_name": "Python 3",
   "language": "python",
   "name": "python3"
  },
  "language_info": {
   "codemirror_mode": {
    "name": "ipython",
    "version": 3
   },
   "file_extension": ".py",
   "mimetype": "text/x-python",
   "name": "python",
   "nbconvert_exporter": "python",
   "pygments_lexer": "ipython3",
   "version": "3.8.5"
  }
 },
 "nbformat": 4,
 "nbformat_minor": 4
}
