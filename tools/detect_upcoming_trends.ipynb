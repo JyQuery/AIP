{
 "cells": [
  {
   "cell_type": "code",
   "execution_count": 27,
   "metadata": {},
   "outputs": [],
   "source": [
    "import os\n",
    "import sys\n",
    "import sqlite3\n",
    "sys.path.insert(0, os.path.abspath('../'))  # add the current module so that we can import the utils file\n",
    "from tools.utils import get_top_keywords_for_query, create_df_for_query"
   ]
  },
  {
   "cell_type": "code",
   "execution_count": 28,
   "metadata": {},
   "outputs": [],
   "source": [
    "conn = sqlite3.connect('../aip.db')\n",
    "start_year = 2009  # inclusive\n",
    "end_year = 2018  # inclusive"
   ]
  },
  {
   "cell_type": "code",
   "execution_count": 29,
   "metadata": {},
   "outputs": [],
   "source": [
    "# Get for each year, the top 100 keywords.\n",
    "keywords_per_year = dict()\n",
    "num_keywords = 10\n",
    "# corpus_query = \"\"\"\n",
    "# SELECT * \n",
    "# FROM publications \n",
    "# WHERE year between ? and ?\n",
    "# and (lower(title) like '%workflow%' or lower(abstract) like '%workflow%') \n",
    "# and (lower(title) like '%schedul%' or lower(abstract) like '%schedul%')\n",
    "# \"\"\"\n",
    "corpus_query = \"\"\"\n",
    "SELECT * \n",
    "FROM publications \n",
    "WHERE year between ? and ?\n",
    "\"\"\"\n",
    "corpus_df = create_df_for_query(conn, corpus_query, [start_year, end_year])"
   ]
  },
  {
   "cell_type": "code",
   "execution_count": 30,
   "metadata": {},
   "outputs": [],
   "source": [
    "for year in range(start_year, end_year + 1):\n",
    "    query = \"SELECT * FROM publications WHERE year = ?\"  # the entire systems community\n",
    "    # The workflow scheduling community\n",
    "#     query = \"SELECT * FROM publications WHERE year = ? and (lower(title) like '%workflow%' or lower(abstract) like '%workflow%') and (lower(title) like '%schedul%' or lower(abstract) like '%schedul%')\"\n",
    "    # the workflow formalism community\n",
    "#     query = \"SELECT * FROM publications WHERE year = ? AND (lower(title) LIKE '%workflow%' OR lower(abstract) LIKE '%workflow%') AND ((lower(title) LIKE '%formalism%' OR lower(abstract) LIKE '%formalism%') OR (lower(title) LIKE '%language%' OR lower(abstract) LIKE '%language%'))\"\n",
    "    # Workflow allocation\n",
    "#     query = \"SELECT * FROM publications WHERE (lower(title) LIKE '%workflow%' OR lower(abstract) LIKE '%workflow%') AND ((lower(title) LIKE '%allocat%' OR lower(abstract) LIKE '%allocat%') OR (lower(title) LIKE '%schedul%' OR lower(abstract) LIKE '%schedul%') OR (lower(title) LIKE '%plan%' OR lower(abstract) LIKE '%plan%')) AND year = ?\"\n",
    "    # Resource provisioning\n",
    "#     query = \"SELECT * FROM publications WHERE year = ? AND (lower(title) LIKE '%workflow%' OR lower(abstract) LIKE '%workflow%') AND (lower(title) LIKE '%provision%' OR lower(abstract) LIKE '%provision%' OR lower(title) LIKE '%autoscal%' OR lower(abstract) LIKE '%autoscal%')\"\n",
    "    # Service and appliations in clouds\n",
    "#     query = \" SELECT * FROM publications WHERE year = ? AND (lower(title) LIKE '%cloud%' OR lower(abstract) LIKE '%cloud%') AND (lower(title) LIKE '%service%' OR lower(abstract) LIKE '%service%')\"\n",
    "    \n",
    "    keywords = get_top_keywords_for_query(conn, corpus_df, query, num_keywords, article_query_params=[year])\n",
    "    keywords_per_year[year] = keywords"
   ]
  },
  {
   "cell_type": "code",
   "execution_count": 31,
   "metadata": {},
   "outputs": [
    {
     "name": "stdout",
     "output_type": "stream",
     "text": [
      "['proposed']\n"
     ]
    }
   ],
   "source": [
    "# This cell outputs keywords that are amoung the top-{num_keywords} in the past (end_year - last_years, end_year] years\n",
    "# that are not found in the block [start_year, end_year - last_years]\n",
    "\n",
    "keywords_in_the_last_years = set()\n",
    "last_years = 5\n",
    "for year in range(end_year, end_year - last_years, -1):\n",
    "    for keyword in keywords_per_year[year]:\n",
    "        keywords_in_the_last_years.add(keyword)\n",
    "\n",
    "keywords_in_the_remaining_years = set()\n",
    "for year in range(end_year - last_years, start_year - 1, -1):\n",
    "    for keyword in keywords_per_year[year]:\n",
    "        keywords_in_the_remaining_years.add(keyword)\n",
    "\n",
    "emerging_keywords = keywords_in_the_last_years - keywords_in_the_remaining_years\n",
    "print(sorted(emerging_keywords))"
   ]
  },
  {
   "cell_type": "code",
   "execution_count": 32,
   "metadata": {},
   "outputs": [
    {
     "name": "stdout",
     "output_type": "stream",
     "text": [
      "{'proposed'}\n",
      "proposed 2018\n"
     ]
    }
   ],
   "source": [
    "# This cell outputs keywords that have strictly risen in rank throughout the years in the top-{num_keywords}.\n",
    "\n",
    "keyword_last_rank = dict()\n",
    "seen_keywords = set()\n",
    "emerging_keywords = set()\n",
    "\n",
    "# Fill the dictionary with the initial year\n",
    "for index in range(len(keywords_per_year[start_year])):\n",
    "    keyword = keywords_per_year[start_year][index]\n",
    "    keyword_last_rank[keyword] = index\n",
    "    seen_keywords.add(keyword)\n",
    "    emerging_keywords.add(keyword)\n",
    "    \n",
    "# for rank, word in keyword_last_rank.items():\n",
    "#     print(rank, word)\n",
    "# Now, we check each year's keywords. There can be four cases:\n",
    "# 1. The keyword was also in last year's set. In this case the index (its rank) has to be higher or equal.\n",
    "# 2. The keyword is not in keyword_last_rank _AND_ was never seen before, this means it can be an emerging field and should be added to the keyword_last_rank dictionary.\n",
    "# 3. The keyword is not in keyword_last_rank _AND_ was seen before. This means it dropped throughout the years and should be removed.\n",
    "# 4. A keyword was seen once and then never again, drop it if it was not encountered in the {end_year}.\n",
    "for year in range(start_year + 1, end_year + 1):\n",
    "    this_years_rank = dict()\n",
    "    new_emerging_topics = set()  # Keep a clean set to automatically weed out keywords matching case 4\n",
    "    for index in range(len(keywords_per_year[year])):\n",
    "        keyword = keywords_per_year[year][index]\n",
    "        \n",
    "#         # For insight\n",
    "#         if keyword == \"part\":\n",
    "#             print(year, keyword, index)\n",
    "        \n",
    "        # Case 1\n",
    "        if keyword in keyword_last_rank and keyword in emerging_keywords:\n",
    "            if index <= keyword_last_rank[keyword]: # rank is lower, all is well\n",
    "                this_years_rank[keyword] = index\n",
    "                new_emerging_topics.add(keyword)\n",
    "        elif keyword not in seen_keywords:  # Case 2\n",
    "            this_years_rank[keyword] = index  # We can reuse keyword_last_rank since keywords are unique per year\n",
    "            new_emerging_topics.add(keyword)\n",
    "        else: # Case 3 - this else statement can be deleted, but for completion's sake we left it in\n",
    "            if keyword in emerging_keywords:\n",
    "                emerging_keywords.remove(keyword)\n",
    "        \n",
    "        seen_keywords.add(keyword)  # Always add the keyword to the seen keywords set.\n",
    "        keyword_last_rank = this_years_rank  # Set the last year's rank dict to this year, to be ready for the next potential loop iteration.\n",
    "        emerging_keywords = new_emerging_topics  # Since we swap at the end, keywords emerged in the last year are automatically kept.\n",
    "        \n",
    "print(emerging_keywords)\n",
    "\n",
    "for word in emerging_keywords:\n",
    "    for year in range(start_year, end_year + 1):\n",
    "        if word in keywords_per_year[year]:\n",
    "            print(word, year)"
   ]
  },
  {
   "cell_type": "code",
   "execution_count": null,
   "metadata": {},
   "outputs": [],
   "source": []
  }
 ],
 "metadata": {
  "kernelspec": {
   "display_name": "Python 3",
   "language": "python",
   "name": "python3"
  },
  "language_info": {
   "codemirror_mode": {
    "name": "ipython",
    "version": 3
   },
   "file_extension": ".py",
   "mimetype": "text/x-python",
   "name": "python",
   "nbconvert_exporter": "python",
   "pygments_lexer": "ipython3",
   "version": "3.7.5"
  }
 },
 "nbformat": 4,
 "nbformat_minor": 2
}
